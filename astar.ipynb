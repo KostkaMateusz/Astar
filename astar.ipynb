{
 "cells": [
  {
   "cell_type": "code",
   "execution_count": 1,
   "metadata": {},
   "outputs": [],
   "source": [
    "from pole import Pole\n",
    "from typing import List\n",
    "\n",
    "import numpy as np\n",
    "import matplotlib\n",
    "import matplotlib.pyplot as plt"
   ]
  },
  {
   "cell_type": "code",
   "execution_count": 2,
   "metadata": {},
   "outputs": [],
   "source": [
    "# elements 1 is normal place; element 0 is przeszkoda; element -1 is meta; element 2 is start\n",
    "tablica_elementow = [[1, 1, 1, 2, 1], [1, 1, 0, 0, 1],\n",
    "                     [1, 1, 1, 1, 1], [1, 0, 0, 1, 1], [1, 1, -1, 1, 0]]"
   ]
  },
  {
   "cell_type": "code",
   "execution_count": 3,
   "metadata": {},
   "outputs": [
    {
     "name": "stdout",
     "output_type": "stream",
     "text": [
      "5\n"
     ]
    }
   ],
   "source": [
    "global_object_table = Pole.array_creation(tablica_elementow)\n",
    "# Pole.print_all_items()\n",
    "#a star engine\n",
    "print(len(global_object_table))\n",
    "\n",
    "def distance_calculator(place1:Pole,place2:Pole)->int:\n",
    "    distance_x=abs(place1.x_position-place2.x_position) \n",
    "    distance_y=abs(place1.y_position-place2.y_position)\n",
    "    return distance_x+distance_y\n",
    "    "
   ]
  },
  {
   "cell_type": "code",
   "execution_count": 4,
   "metadata": {},
   "outputs": [],
   "source": [
    "def a_star_engine(global_object_table:List[List[Pole]]):\n",
    "\n",
    "    open_list=[]\n",
    "    closed_list=[]\n",
    "\n",
    "    open_list.append(global_object_table[0][3])\n",
    "    finded=False\n",
    "    while(len(open_list)!=0 and finded!=True):\n",
    "        minimum=min([element.value_of_f for element in open_list])\n",
    "        index_with_min=-1\n",
    "        for index,element in enumerate(open_list):\n",
    "            if element.value_of_f==minimum:\n",
    "                index_with_min=index\n",
    "                break\n",
    "\n",
    "        q=open_list.pop(index_with_min)\n",
    "        for neigh in q.list_of_neighbors:\n",
    "            if neigh is not None and neigh.value!=0:\n",
    "                if neigh.value==-1:\n",
    "                    print(\"Znalazłem\")\n",
    "                    finded=True\n",
    "                    break\n",
    "                neigh.g=q.g+distance_calculator(neigh,q)\n",
    "                neigh.h=distance_calculator(neigh,global_object_table[4][3])\n",
    "                if neigh in open_list:\n",
    "                    continue\n",
    "                if neigh in closed_list:\n",
    "                    continue\n",
    "                print(f\"X:{neigh.x_position} Y:{neigh.y_position}\")\n",
    "                open_list.append(neigh) \n",
    "\n",
    "        closed_list.append(q)\n"
   ]
  },
  {
   "cell_type": "code",
   "execution_count": 5,
   "metadata": {},
   "outputs": [
    {
     "name": "stdout",
     "output_type": "stream",
     "text": [
      "X:4 Y:0\n",
      "X:2 Y:0\n",
      "X:4 Y:1\n",
      "X:1 Y:0\n",
      "X:4 Y:2\n",
      "X:4 Y:3\n",
      "X:3 Y:2\n",
      "X:3 Y:3\n",
      "X:2 Y:2\n",
      "X:3 Y:4\n",
      "Znalazłem\n",
      "X:0 Y:0 F:0 G:0 H:0 |X:1 Y:0 F:8 G:2 H:6 |X:2 Y:0 F:6 G:1 H:5 |X:3 Y:0 F:6 G:2 H:4 |X:4 Y:0 F:8 G:3 H:5 |\n",
      "X:0 Y:1 F:0 G:0 H:0 |X:1 Y:1 F:0 G:0 H:0 |X:2 Y:1 F:0 G:0 H:0 |X:3 Y:1 F:0 G:0 H:0 |X:4 Y:1 F:8 G:4 H:4 |\n",
      "X:0 Y:2 F:0 G:0 H:0 |X:1 Y:2 F:0 G:0 H:0 |X:2 Y:2 F:8 G:5 H:3 |X:3 Y:2 F:8 G:6 H:2 |X:4 Y:2 F:8 G:5 H:3 |\n",
      "X:0 Y:3 F:0 G:0 H:0 |X:1 Y:3 F:0 G:0 H:0 |X:2 Y:3 F:0 G:0 H:0 |X:3 Y:3 F:8 G:7 H:1 |X:4 Y:3 F:8 G:6 H:2 |\n",
      "X:0 Y:4 F:0 G:0 H:0 |X:1 Y:4 F:0 G:0 H:0 |X:2 Y:4 F:0 G:0 H:0 |X:3 Y:4 F:6 G:6 H:0 |X:4 Y:4 F:0 G:0 H:0 |\n"
     ]
    }
   ],
   "source": [
    "a_star_engine(global_object_table)\n",
    "Pole.print_table()"
   ]
  },
  {
   "cell_type": "code",
   "execution_count": 9,
   "metadata": {},
   "outputs": [
    {
     "data": {
      "image/png": "[encoded data removed]",
      "text/plain": [
       "<Figure size 432x288 with 1 Axes>"
      ]
     },
     "metadata": {
      "needs_background": "light"
     },
     "output_type": "display_data"
    }
   ],
   "source": [
    "array_of_values=[]\n",
    "\n",
    "for row in global_object_table:\n",
    "    table_row_values=[]\n",
    "\n",
    "    for element in row:\n",
    "\n",
    "        table_row_values.append(element.value)\n",
    "\n",
    "    array_of_values.append(table_row_values)\n",
    "\n",
    "\n",
    "values = np.array(array_of_values)\n",
    "\n",
    "fig, ax = plt.subplots()\n",
    "im = ax.imshow(values)\n",
    "\n",
    "# # Show all ticks and label them with the respective list entries\n",
    "ax.set_xticks(np.arange(5), labels=[0,1,2,3,4])\n",
    "ax.set_yticks(np.arange(5), labels=[0,1,2,3,4])\n",
    "\n",
    "# # # Rotate the tick labels and set their alignment.\n",
    "plt.setp(ax.get_xticklabels(), rotation=45, ha=\"right\",\n",
    "         rotation_mode=\"anchor\")\n",
    "\n",
    "# Loop over data dimensions and create text annotations.\n",
    "for i in range(len(global_object_table)):\n",
    "    for j in range(len(global_object_table[1])):\n",
    "        text = ax.text(j, i, values[i, j],\n",
    "                       ha=\"center\", va=\"center\", color=\"w\")\n",
    "\n",
    "ax.set_title(\"Astar\")\n",
    "fig.tight_layout()\n",
    "plt.show()\n"
   ]
  },
  {
   "cell_type": "code",
   "execution_count": null,
   "metadata": {},
   "outputs": [],
   "source": []
  }
 ],
 "metadata": {
  "interpreter": {
   "hash": "4ee186ee2881e099367c8d0afb3589377bc9ad060c8b9026f231fa75fac4b1fe"
  },
  "kernelspec": {
   "display_name": "Python 3.10.2 64-bit",
   "language": "python",
   "name": "python3"
  },
  "language_info": {
   "codemirror_mode": {
    "name": "ipython",
    "version": 3
   },
   "file_extension": ".py",
   "mimetype": "text/x-python",
   "name": "python",
   "nbconvert_exporter": "python",
   "pygments_lexer": "ipython3",
   "version": "3.10.2"
  },
  "orig_nbformat": 4
 },
 "nbformat": 4,
 "nbformat_minor": 2
}
